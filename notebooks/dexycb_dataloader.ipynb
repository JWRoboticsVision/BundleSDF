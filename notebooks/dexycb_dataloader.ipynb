{
 "cells": [
  {
   "cell_type": "code",
   "execution_count": null,
   "metadata": {},
   "outputs": [],
   "source": [
    "from pathlib import Path\n",
    "import cv2\n",
    "import numpy as np\n",
    "import matplotlib.pyplot as plt\n",
    "import torch"
   ]
  },
  {
   "cell_type": "code",
   "execution_count": null,
   "metadata": {},
   "outputs": [],
   "source": [
    "def show_images(images):\n",
    "    if not isinstance(images, list):\n",
    "        images = [images]\n",
    "    for i, image in enumerate(images):\n",
    "        plt.subplot(1, len(images), i+1)\n",
    "        plt.axis('off')\n",
    "        if image.ndim==2:\n",
    "            plt.imshow(image, cmap='gray')\n",
    "        else:\n",
    "            plt.imshow(image)\n",
    "\n",
    "def load_rgb_image(path):\n",
    "    image = cv2.imread(str(path))\n",
    "    image = cv2.cvtColor(image, cv2.COLOR_BGR2RGB)\n",
    "    return image\n",
    "\n",
    "def load_depth_image(path):\n",
    "    image = cv2.imread(str(path), cv2.IMREAD_ANYDEPTH)\n",
    "    image = image.astype(np.float32) / 1000.0\n",
    "    return image\n"
   ]
  },
  {
   "cell_type": "code",
   "execution_count": null,
   "metadata": {},
   "outputs": [],
   "source": [
    "sequence_folder = Path(\"../datasets/DexYcb/demo/035_power_drill/841412060263\")"
   ]
  },
  {
   "cell_type": "code",
   "execution_count": null,
   "metadata": {},
   "outputs": [],
   "source": [
    "rgb_files = sorted(sequence_folder.glob(\"color_*.jpg\"))\n",
    "depth_files = sorted(sequence_folder.glob(\"aligned_depth_to_color_*.png\"))\n",
    "label_files = sorted(sequence_folder.glob(\"labels_*.npz\"))"
   ]
  },
  {
   "cell_type": "code",
   "execution_count": null,
   "metadata": {},
   "outputs": [],
   "source": [
    "color = load_rgb_image(rgb_files[0])\n",
    "depth = load_depth_image(depth_files[0])\n",
    "seg = np.load(label_files[0])[\"seg\"]"
   ]
  },
  {
   "cell_type": "code",
   "execution_count": null,
   "metadata": {},
   "outputs": [],
   "source": [
    "show_images([color, depth])"
   ]
  },
  {
   "cell_type": "code",
   "execution_count": null,
   "metadata": {},
   "outputs": [],
   "source": [
    "mask = seg == 15\n",
    "mask = mask.astype(np.uint8)\n",
    "color = cv2.bitwise_and(color, color, mask=mask)\n",
    "depth = cv2.bitwise_and(depth, depth, mask=mask)\n",
    "show_images([color, depth, mask])"
   ]
  }
 ],
 "metadata": {
  "kernelspec": {
   "display_name": "Python3.9 (PyTorch)",
   "language": "python",
   "name": "py39"
  },
  "language_info": {
   "codemirror_mode": {
    "name": "ipython",
    "version": 3
   },
   "file_extension": ".py",
   "mimetype": "text/x-python",
   "name": "python",
   "nbconvert_exporter": "python",
   "pygments_lexer": "ipython3",
   "version": "3.9.16"
  },
  "orig_nbformat": 4
 },
 "nbformat": 4,
 "nbformat_minor": 2
}
